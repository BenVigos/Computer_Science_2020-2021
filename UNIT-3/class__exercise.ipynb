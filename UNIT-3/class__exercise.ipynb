{
  "nbformat": 4,
  "nbformat_minor": 0,
  "metadata": {
    "colab": {
      "name": "class_ exercise",
      "provenance": [],
      "authorship_tag": "ABX9TyMc2N6WEwOgCIZfUS4j+8NQ",
      "include_colab_link": true
    },
    "kernelspec": {
      "name": "python3",
      "display_name": "Python 3"
    }
  },
  "cells": [
    {
      "cell_type": "markdown",
      "metadata": {
        "id": "view-in-github",
        "colab_type": "text"
      },
      "source": [
        "<a href=\"https://colab.research.google.com/github/BenVigos/Computer_Science_2020-2021/blob/master/class__exercise.ipynb\" target=\"_parent\"><img src=\"https://colab.research.google.com/assets/colab-badge.svg\" alt=\"Open In Colab\"/></a>"
      ]
    },
    {
      "cell_type": "code",
      "metadata": {
        "id": "V0J9JsUokWs_"
      },
      "source": [
        "class bicycles():\n",
        "  #constructor: This is where we define the attributes\n",
        "  def __init__(self):\n",
        "    self.bike_model = \"\"\n",
        "    self.bike_condition = \"\"\n",
        "    self.repair_parts = []\n",
        "    self.cost = 0\n",
        "\n",
        "  def list_parts(self):\n",
        "    return self.repair_parts\n",
        "\n",
        "\n",
        "class owners():\n",
        "  def __init__(self):\n",
        "    self.name = \"\"\n",
        "    self.email = \"\"\n",
        "    self.phone_n = 0\n",
        "    self.retrieve_date = [0, 0, 0]\n",
        "    self.bicycles = []"
      ],
      "execution_count": 1,
      "outputs": []
    },
    {
      "cell_type": "code",
      "metadata": {
        "colab": {
          "base_uri": "https://localhost:8080/"
        },
        "id": "qz1dWBD8l8Mk",
        "outputId": "b960d1bd-d3d3-4cb1-dace-9aa5b81d4abe"
      },
      "source": [
        "# Create an object of the class bicycles\n",
        "\n",
        "bike_1 = bicycles()\n",
        "print(bike_1.list_parts())"
      ],
      "execution_count": 2,
      "outputs": [
        {
          "output_type": "stream",
          "text": [
            "[]\n"
          ],
          "name": "stdout"
        }
      ]
    },
    {
      "cell_type": "markdown",
      "metadata": {
        "id": "eOKeDB9qkcTK"
      },
      "source": [
        "# Class exercise\n",
        "\n",
        "This is a class exercise"
      ]
    }
  ]
}
